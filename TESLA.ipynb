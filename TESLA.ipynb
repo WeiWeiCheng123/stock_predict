{
  "nbformat": 4,
  "nbformat_minor": 0,
  "metadata": {
    "colab": {
      "name": "TESLA.ipynb",
      "provenance": [],
      "collapsed_sections": []
    },
    "kernelspec": {
      "name": "python3",
      "display_name": "Python 3"
    },
    "accelerator": "TPU"
  },
  "cells": [
    {
      "cell_type": "code",
      "metadata": {
        "id": "4jtomGkb4Wql",
        "colab_type": "code",
        "colab": {
          "base_uri": "https://localhost:8080/",
          "height": 51
        },
        "outputId": "19d5e689-8af6-495c-bfc9-70cb531e1171"
      },
      "source": [
        "#import tensorflow.compat.v1 as tf\n",
        "#tf.disable_v2_behavior()\n",
        "import tensorflow as tf\n",
        "import tensorflow.keras as keras\n",
        "import numpy as np\n",
        "import pandas as pd\n",
        "from sklearn import preprocessing\n",
        "np.random.seed(10)\n",
        "import matplotlib.pyplot as plt\n",
        "import seaborn as sns\n",
        "import os\n",
        "import fileinput\n",
        "from google.colab import files"
      ],
      "execution_count": 1,
      "outputs": [
        {
          "output_type": "stream",
          "text": [
            "/usr/local/lib/python3.6/dist-packages/statsmodels/tools/_testing.py:19: FutureWarning: pandas.util.testing is deprecated. Use the functions in the public API at pandas.testing instead.\n",
            "  import pandas.util.testing as tm\n"
          ],
          "name": "stderr"
        }
      ]
    },
    {
      "cell_type": "code",
      "metadata": {
        "id": "AEufqaFz2clh",
        "colab_type": "code",
        "colab": {}
      },
      "source": [
        "df=pd.read_csv(\"/content/TSLA.csv\")"
      ],
      "execution_count": 2,
      "outputs": []
    },
    {
      "cell_type": "code",
      "metadata": {
        "id": "zJI0nDdP7foI",
        "colab_type": "code",
        "colab": {}
      },
      "source": [
        "def augFeatures(df):\n",
        "  df[\"Date\"] = pd.to_datetime(df[\"Date\"])\n",
        "  df[\"year\"] = df[\"Date\"].dt.year\n",
        "  df[\"month\"] = df[\"Date\"].dt.month\n",
        "  df[\"date\"] = df[\"Date\"].dt.day\n",
        "  df[\"day\"] = df[\"Date\"].dt.dayofweek\n",
        "  df = df.drop([\"Date\"], axis=1)\n",
        "  return df\n",
        "  #separate the DateTime to year, month and day"
      ],
      "execution_count": 3,
      "outputs": []
    },
    {
      "cell_type": "code",
      "metadata": {
        "id": "0xiYLZumWmwb",
        "colab_type": "code",
        "colab": {}
      },
      "source": [
        "def normalize(df):\n",
        "  df_norm = df.apply(lambda x: (x - np.mean(x)) / (np.max(x) - np.min(x)))\n",
        "  return df_norm\n",
        "  #normalize the data"
      ],
      "execution_count": 4,
      "outputs": []
    },
    {
      "cell_type": "code",
      "metadata": {
        "id": "wFyo45Y_X6V1",
        "colab_type": "code",
        "colab": {}
      },
      "source": [
        "df_feat=augFeatures(df)\n",
        "df_norm=normalize(df_feat)"
      ],
      "execution_count": 5,
      "outputs": []
    },
    {
      "cell_type": "code",
      "metadata": {
        "id": "dPm7cbgTZkpo",
        "colab_type": "code",
        "colab": {}
      },
      "source": [
        "def buildTrain(df, ref_day=5, predict_day=1):\n",
        "    X_train, Y_train = [], []\n",
        "    for i in range(df.shape[0]-predict_day-ref_day):\n",
        "        X_train.append(np.array(df.iloc[i:i+ref_day]))\n",
        "        Y_train.append(np.array(df.iloc[i+ref_day:i+ref_day+predict_day][\"Close\"]))\n",
        "    return np.array(X_train), np.array(Y_train)\n",
        "    #seperate the data to x_train and y_train\n",
        "    #the main goal is to predict the  day after the fifth-day price"
      ],
      "execution_count": 6,
      "outputs": []
    },
    {
      "cell_type": "code",
      "metadata": {
        "id": "l4yGHCcCaHb6",
        "colab_type": "code",
        "colab": {}
      },
      "source": [
        "def shuffle(X,Y):\n",
        "  np.random.seed(10)\n",
        "  randomList = np.arange(X.shape[0])\n",
        "  np.random.shuffle(randomList)\n",
        "  return X[randomList], Y[randomList]\n",
        "#make a random list "
      ],
      "execution_count": 7,
      "outputs": []
    },
    {
      "cell_type": "code",
      "metadata": {
        "id": "eutSxXjka4ns",
        "colab_type": "code",
        "colab": {}
      },
      "source": [
        "def splitData(X,Y,rate):\n",
        "  X_train = X[:int(X.shape[0]*rate)]\n",
        "  Y_train = Y[:int(Y.shape[0]*rate)]\n",
        "  X_val = X[int(X.shape[0]*rate):]\n",
        "  Y_val = Y[int(Y.shape[0]*rate):]\n",
        "  return X_train, Y_train, X_val, Y_val"
      ],
      "execution_count": 8,
      "outputs": []
    },
    {
      "cell_type": "code",
      "metadata": {
        "id": "NU9_fVtHCGAu",
        "colab_type": "code",
        "colab": {}
      },
      "source": [
        "from tensorflow.keras.models import Sequential\n",
        "from tensorflow.keras.layers import Dense, Dropout, Activation, Flatten, LSTM, TimeDistributed, RepeatVector\n",
        "from tensorflow.keras.callbacks import EarlyStopping, ModelCheckpoint"
      ],
      "execution_count": 9,
      "outputs": []
    },
    {
      "cell_type": "code",
      "metadata": {
        "id": "kxLE0SwqTdY5",
        "colab_type": "code",
        "colab": {}
      },
      "source": [
        "X_train, Y_train = buildTrain(df_norm, 5, 1)\n",
        "X_train, Y_train, X_val, Y_val = splitData(X_train, Y_train, 0.9)"
      ],
      "execution_count": 10,
      "outputs": []
    },
    {
      "cell_type": "code",
      "metadata": {
        "id": "Pjm8LXcO8heU",
        "colab_type": "code",
        "colab": {
          "base_uri": "https://localhost:8080/",
          "height": 391
        },
        "outputId": "c89ce8b8-d58b-4a69-b01d-ff78e48c00a4"
      },
      "source": [
        "model = Sequential()\n",
        "model.add(LSTM(units = 50, return_sequences = True, input_shape = (X_train.shape[1], X_train.shape[2])))\n",
        "model.add(Dropout(0.2))\n",
        "model.add(LSTM(units = 50, return_sequences = True))\n",
        "model.add(Dropout(0.2))\n",
        "model.add(LSTM(units = 50))\n",
        "model.add(Dropout(0.2))\n",
        "model.add(Dense(units = 1))\n",
        "model.compile(optimizer = 'adam', loss = 'mean_squared_error')\n",
        "model.summary()\n"
      ],
      "execution_count": 11,
      "outputs": [
        {
          "output_type": "stream",
          "text": [
            "Model: \"sequential\"\n",
            "_________________________________________________________________\n",
            "Layer (type)                 Output Shape              Param #   \n",
            "=================================================================\n",
            "lstm (LSTM)                  (None, 5, 50)             12200     \n",
            "_________________________________________________________________\n",
            "dropout (Dropout)            (None, 5, 50)             0         \n",
            "_________________________________________________________________\n",
            "lstm_1 (LSTM)                (None, 5, 50)             20200     \n",
            "_________________________________________________________________\n",
            "dropout_1 (Dropout)          (None, 5, 50)             0         \n",
            "_________________________________________________________________\n",
            "lstm_2 (LSTM)                (None, 50)                20200     \n",
            "_________________________________________________________________\n",
            "dropout_2 (Dropout)          (None, 50)                0         \n",
            "_________________________________________________________________\n",
            "dense (Dense)                (None, 1)                 51        \n",
            "=================================================================\n",
            "Total params: 52,651\n",
            "Trainable params: 52,651\n",
            "Non-trainable params: 0\n",
            "_________________________________________________________________\n"
          ],
          "name": "stdout"
        }
      ]
    },
    {
      "cell_type": "code",
      "metadata": {
        "id": "Nbk6S9EdC8es",
        "colab_type": "code",
        "colab": {
          "base_uri": "https://localhost:8080/",
          "height": 1000
        },
        "outputId": "d2d8ab40-6761-4051-bde0-dc6ad30d7db3"
      },
      "source": [
        "train_history=model.fit(X_train, Y_train, validation_data=(X_val, Y_val), epochs = 100, batch_size = 128, verbose=2)"
      ],
      "execution_count": 12,
      "outputs": [
        {
          "output_type": "stream",
          "text": [
            "Epoch 1/100\n",
            "17/17 - 1s - loss: 0.0144 - val_loss: 0.0057\n",
            "Epoch 2/100\n",
            "17/17 - 0s - loss: 0.0017 - val_loss: 0.0044\n",
            "Epoch 3/100\n",
            "17/17 - 0s - loss: 0.0010 - val_loss: 0.0043\n",
            "Epoch 4/100\n",
            "17/17 - 0s - loss: 7.3923e-04 - val_loss: 0.0028\n",
            "Epoch 5/100\n",
            "17/17 - 0s - loss: 6.8848e-04 - val_loss: 0.0020\n",
            "Epoch 6/100\n",
            "17/17 - 0s - loss: 5.9246e-04 - val_loss: 0.0016\n",
            "Epoch 7/100\n",
            "17/17 - 0s - loss: 6.0875e-04 - val_loss: 0.0013\n",
            "Epoch 8/100\n",
            "17/17 - 0s - loss: 5.2192e-04 - val_loss: 0.0011\n",
            "Epoch 9/100\n",
            "17/17 - 0s - loss: 5.0921e-04 - val_loss: 9.5403e-04\n",
            "Epoch 10/100\n",
            "17/17 - 0s - loss: 5.1472e-04 - val_loss: 9.6494e-04\n",
            "Epoch 11/100\n",
            "17/17 - 0s - loss: 4.9596e-04 - val_loss: 9.4623e-04\n",
            "Epoch 12/100\n",
            "17/17 - 0s - loss: 5.1851e-04 - val_loss: 0.0011\n",
            "Epoch 13/100\n",
            "17/17 - 0s - loss: 5.0193e-04 - val_loss: 0.0011\n",
            "Epoch 14/100\n",
            "17/17 - 0s - loss: 5.2178e-04 - val_loss: 0.0011\n",
            "Epoch 15/100\n",
            "17/17 - 0s - loss: 4.8917e-04 - val_loss: 0.0010\n",
            "Epoch 16/100\n",
            "17/17 - 0s - loss: 4.7687e-04 - val_loss: 9.8012e-04\n",
            "Epoch 17/100\n",
            "17/17 - 0s - loss: 4.6209e-04 - val_loss: 8.4990e-04\n",
            "Epoch 18/100\n",
            "17/17 - 0s - loss: 4.7972e-04 - val_loss: 0.0011\n",
            "Epoch 19/100\n",
            "17/17 - 0s - loss: 4.4139e-04 - val_loss: 0.0011\n",
            "Epoch 20/100\n",
            "17/17 - 0s - loss: 4.4991e-04 - val_loss: 0.0011\n",
            "Epoch 21/100\n",
            "17/17 - 0s - loss: 4.5750e-04 - val_loss: 0.0010\n",
            "Epoch 22/100\n",
            "17/17 - 0s - loss: 4.1787e-04 - val_loss: 9.0396e-04\n",
            "Epoch 23/100\n",
            "17/17 - 0s - loss: 4.5916e-04 - val_loss: 0.0010\n",
            "Epoch 24/100\n",
            "17/17 - 0s - loss: 4.2166e-04 - val_loss: 0.0011\n",
            "Epoch 25/100\n",
            "17/17 - 0s - loss: 4.2847e-04 - val_loss: 9.7671e-04\n",
            "Epoch 26/100\n",
            "17/17 - 0s - loss: 3.9912e-04 - val_loss: 9.3014e-04\n",
            "Epoch 27/100\n",
            "17/17 - 0s - loss: 4.4895e-04 - val_loss: 0.0010\n",
            "Epoch 28/100\n",
            "17/17 - 0s - loss: 4.3377e-04 - val_loss: 0.0011\n",
            "Epoch 29/100\n",
            "17/17 - 0s - loss: 4.2135e-04 - val_loss: 9.9400e-04\n",
            "Epoch 30/100\n",
            "17/17 - 0s - loss: 4.3279e-04 - val_loss: 0.0010\n",
            "Epoch 31/100\n",
            "17/17 - 0s - loss: 4.0727e-04 - val_loss: 8.9314e-04\n",
            "Epoch 32/100\n",
            "17/17 - 0s - loss: 3.9957e-04 - val_loss: 9.6926e-04\n",
            "Epoch 33/100\n",
            "17/17 - 0s - loss: 3.9960e-04 - val_loss: 9.7064e-04\n",
            "Epoch 34/100\n",
            "17/17 - 0s - loss: 3.9243e-04 - val_loss: 8.7399e-04\n",
            "Epoch 35/100\n",
            "17/17 - 0s - loss: 4.1427e-04 - val_loss: 8.7842e-04\n",
            "Epoch 36/100\n",
            "17/17 - 0s - loss: 4.0123e-04 - val_loss: 8.7395e-04\n",
            "Epoch 37/100\n",
            "17/17 - 0s - loss: 4.1566e-04 - val_loss: 0.0011\n",
            "Epoch 38/100\n",
            "17/17 - 0s - loss: 4.1531e-04 - val_loss: 8.7373e-04\n",
            "Epoch 39/100\n",
            "17/17 - 0s - loss: 4.0298e-04 - val_loss: 0.0010\n",
            "Epoch 40/100\n",
            "17/17 - 0s - loss: 4.0325e-04 - val_loss: 9.0555e-04\n",
            "Epoch 41/100\n",
            "17/17 - 0s - loss: 4.0328e-04 - val_loss: 8.2674e-04\n",
            "Epoch 42/100\n",
            "17/17 - 0s - loss: 3.9236e-04 - val_loss: 8.6085e-04\n",
            "Epoch 43/100\n",
            "17/17 - 0s - loss: 3.9711e-04 - val_loss: 0.0010\n",
            "Epoch 44/100\n",
            "17/17 - 0s - loss: 4.1635e-04 - val_loss: 0.0011\n",
            "Epoch 45/100\n",
            "17/17 - 0s - loss: 3.9175e-04 - val_loss: 7.9936e-04\n",
            "Epoch 46/100\n",
            "17/17 - 0s - loss: 3.9058e-04 - val_loss: 8.8978e-04\n",
            "Epoch 47/100\n",
            "17/17 - 0s - loss: 3.7781e-04 - val_loss: 0.0011\n",
            "Epoch 48/100\n",
            "17/17 - 0s - loss: 3.9256e-04 - val_loss: 8.1117e-04\n",
            "Epoch 49/100\n",
            "17/17 - 0s - loss: 3.8235e-04 - val_loss: 8.9337e-04\n",
            "Epoch 50/100\n",
            "17/17 - 0s - loss: 4.1412e-04 - val_loss: 9.5157e-04\n",
            "Epoch 51/100\n",
            "17/17 - 0s - loss: 3.7015e-04 - val_loss: 9.9429e-04\n",
            "Epoch 52/100\n",
            "17/17 - 0s - loss: 3.8400e-04 - val_loss: 9.3395e-04\n",
            "Epoch 53/100\n",
            "17/17 - 0s - loss: 3.8500e-04 - val_loss: 9.5238e-04\n",
            "Epoch 54/100\n",
            "17/17 - 0s - loss: 3.7709e-04 - val_loss: 0.0011\n",
            "Epoch 55/100\n",
            "17/17 - 0s - loss: 3.8254e-04 - val_loss: 8.9284e-04\n",
            "Epoch 56/100\n",
            "17/17 - 0s - loss: 3.9052e-04 - val_loss: 9.1240e-04\n",
            "Epoch 57/100\n",
            "17/17 - 0s - loss: 3.6381e-04 - val_loss: 8.7342e-04\n",
            "Epoch 58/100\n",
            "17/17 - 0s - loss: 3.8331e-04 - val_loss: 8.0607e-04\n",
            "Epoch 59/100\n",
            "17/17 - 0s - loss: 3.9897e-04 - val_loss: 8.4553e-04\n",
            "Epoch 60/100\n",
            "17/17 - 0s - loss: 4.2064e-04 - val_loss: 0.0011\n",
            "Epoch 61/100\n",
            "17/17 - 0s - loss: 4.2080e-04 - val_loss: 9.4376e-04\n",
            "Epoch 62/100\n",
            "17/17 - 0s - loss: 3.9020e-04 - val_loss: 8.1322e-04\n",
            "Epoch 63/100\n",
            "17/17 - 0s - loss: 3.7025e-04 - val_loss: 8.8290e-04\n",
            "Epoch 64/100\n",
            "17/17 - 0s - loss: 3.6346e-04 - val_loss: 7.6932e-04\n",
            "Epoch 65/100\n",
            "17/17 - 0s - loss: 3.7848e-04 - val_loss: 7.4638e-04\n",
            "Epoch 66/100\n",
            "17/17 - 0s - loss: 3.5280e-04 - val_loss: 7.5833e-04\n",
            "Epoch 67/100\n",
            "17/17 - 0s - loss: 3.7093e-04 - val_loss: 8.2421e-04\n",
            "Epoch 68/100\n",
            "17/17 - 0s - loss: 3.5603e-04 - val_loss: 8.3379e-04\n",
            "Epoch 69/100\n",
            "17/17 - 0s - loss: 3.7042e-04 - val_loss: 9.0529e-04\n",
            "Epoch 70/100\n",
            "17/17 - 0s - loss: 3.6716e-04 - val_loss: 7.2897e-04\n",
            "Epoch 71/100\n",
            "17/17 - 0s - loss: 3.4694e-04 - val_loss: 7.8433e-04\n",
            "Epoch 72/100\n",
            "17/17 - 0s - loss: 3.4614e-04 - val_loss: 8.4074e-04\n",
            "Epoch 73/100\n",
            "17/17 - 0s - loss: 3.8286e-04 - val_loss: 0.0010\n",
            "Epoch 74/100\n",
            "17/17 - 0s - loss: 3.7081e-04 - val_loss: 9.1309e-04\n",
            "Epoch 75/100\n",
            "17/17 - 0s - loss: 3.7413e-04 - val_loss: 7.8017e-04\n",
            "Epoch 76/100\n",
            "17/17 - 0s - loss: 3.4510e-04 - val_loss: 7.9558e-04\n",
            "Epoch 77/100\n",
            "17/17 - 0s - loss: 3.3734e-04 - val_loss: 8.0425e-04\n",
            "Epoch 78/100\n",
            "17/17 - 0s - loss: 3.6183e-04 - val_loss: 7.4090e-04\n",
            "Epoch 79/100\n",
            "17/17 - 0s - loss: 4.0532e-04 - val_loss: 6.1058e-04\n",
            "Epoch 80/100\n",
            "17/17 - 0s - loss: 3.8258e-04 - val_loss: 7.2902e-04\n",
            "Epoch 81/100\n",
            "17/17 - 0s - loss: 3.5249e-04 - val_loss: 7.0841e-04\n",
            "Epoch 82/100\n",
            "17/17 - 0s - loss: 3.5313e-04 - val_loss: 6.8852e-04\n",
            "Epoch 83/100\n",
            "17/17 - 0s - loss: 3.8369e-04 - val_loss: 6.6144e-04\n",
            "Epoch 84/100\n",
            "17/17 - 0s - loss: 3.5887e-04 - val_loss: 6.9512e-04\n",
            "Epoch 85/100\n",
            "17/17 - 0s - loss: 3.4632e-04 - val_loss: 6.7930e-04\n",
            "Epoch 86/100\n",
            "17/17 - 0s - loss: 3.2586e-04 - val_loss: 6.9056e-04\n",
            "Epoch 87/100\n",
            "17/17 - 0s - loss: 3.4949e-04 - val_loss: 7.6055e-04\n",
            "Epoch 88/100\n",
            "17/17 - 0s - loss: 3.3274e-04 - val_loss: 7.0204e-04\n",
            "Epoch 89/100\n",
            "17/17 - 0s - loss: 3.2459e-04 - val_loss: 8.0416e-04\n",
            "Epoch 90/100\n",
            "17/17 - 0s - loss: 3.3856e-04 - val_loss: 7.2161e-04\n",
            "Epoch 91/100\n",
            "17/17 - 0s - loss: 3.3627e-04 - val_loss: 7.4566e-04\n",
            "Epoch 92/100\n",
            "17/17 - 0s - loss: 3.4309e-04 - val_loss: 7.5112e-04\n",
            "Epoch 93/100\n",
            "17/17 - 0s - loss: 3.2714e-04 - val_loss: 6.7782e-04\n",
            "Epoch 94/100\n",
            "17/17 - 0s - loss: 3.4508e-04 - val_loss: 6.4436e-04\n",
            "Epoch 95/100\n",
            "17/17 - 0s - loss: 3.2668e-04 - val_loss: 6.0404e-04\n",
            "Epoch 96/100\n",
            "17/17 - 0s - loss: 3.5954e-04 - val_loss: 6.0390e-04\n",
            "Epoch 97/100\n",
            "17/17 - 0s - loss: 3.4207e-04 - val_loss: 6.3820e-04\n",
            "Epoch 98/100\n",
            "17/17 - 0s - loss: 3.3134e-04 - val_loss: 7.5918e-04\n",
            "Epoch 99/100\n",
            "17/17 - 0s - loss: 3.2590e-04 - val_loss: 7.8191e-04\n",
            "Epoch 100/100\n",
            "17/17 - 0s - loss: 3.1881e-04 - val_loss: 7.2591e-04\n"
          ],
          "name": "stdout"
        }
      ]
    },
    {
      "cell_type": "code",
      "metadata": {
        "id": "f6C3pO1XRVp2",
        "colab_type": "code",
        "colab": {}
      },
      "source": [
        "import matplotlib.pyplot as plt\n",
        "def show_train_history(train_history,train,validation):\n",
        "    plt.plot(train_history.history[train])\n",
        "    plt.plot(train_history.history[validation])\n",
        "    plt.title('Train History')\n",
        "    plt.ylabel(train)\n",
        "    plt.xlabel('Epoch')\n",
        "    plt.legend(['train', 'validation'], loc='lower right')\n",
        "    plt.show()"
      ],
      "execution_count": 13,
      "outputs": []
    },
    {
      "cell_type": "code",
      "metadata": {
        "id": "0xT0-dJ-RaOi",
        "colab_type": "code",
        "colab": {
          "base_uri": "https://localhost:8080/",
          "height": 295
        },
        "outputId": "065ebdc5-4423-4278-885b-e29f28031e35"
      },
      "source": [
        "show_train_history(train_history,'loss','val_loss')"
      ],
      "execution_count": 14,
      "outputs": [
        {
          "output_type": "display_data",
          "data": {
            "image/png": "[encoded data removed]",
            "text/plain": [
              "<Figure size 432x288 with 1 Axes>"
            ]
          },
          "metadata": {
            "tags": [],
            "needs_background": "light"
          }
        }
      ]
    },
    {
      "cell_type": "code",
      "metadata": {
        "id": "7UD8CKmTEq14",
        "colab_type": "code",
        "colab": {
          "base_uri": "https://localhost:8080/",
          "height": 51
        },
        "outputId": "23f2aa14-6de3-4df7-f650-ca26abe73977"
      },
      "source": [
        "model.evaluate(X_val,Y_val)\n"
      ],
      "execution_count": 15,
      "outputs": [
        {
          "output_type": "stream",
          "text": [
            "8/8 [==============================] - 0s 3ms/step - loss: 7.2591e-04\n"
          ],
          "name": "stdout"
        },
        {
          "output_type": "execute_result",
          "data": {
            "text/plain": [
              "0.000725910475011915"
            ]
          },
          "metadata": {
            "tags": []
          },
          "execution_count": 15
        }
      ]
    },
    {
      "cell_type": "code",
      "metadata": {
        "id": "fB4oudRsHJeE",
        "colab_type": "code",
        "colab": {}
      },
      "source": [
        "predict_y = model.predict(X_val)"
      ],
      "execution_count": 16,
      "outputs": []
    },
    {
      "cell_type": "code",
      "metadata": {
        "id": "-N1K3K9qHROQ",
        "colab_type": "code",
        "colab": {}
      },
      "source": [
        "def denormalize(train):\n",
        "  denorm = train.apply(lambda x: x*(np.max(df[\"Close\"])-np.min(df[\"Close\"]))+np.mean(df[\"Close\"]))\n",
        "  return denorm\n",
        "\n",
        "Y_val = pd.DataFrame(Y_val)\n",
        "Y_val = denormalize(Y_val)\n",
        "predict_y = pd.DataFrame(predict_y)\n",
        "predict_y = denormalize(predict_y)"
      ],
      "execution_count": 17,
      "outputs": []
    },
    {
      "cell_type": "code",
      "metadata": {
        "id": "2tnrL7zjIziA",
        "colab_type": "code",
        "colab": {
          "base_uri": "https://localhost:8080/",
          "height": 458
        },
        "outputId": "4e7808b5-842d-4712-9a4d-2a98ff2ed73f"
      },
      "source": [
        "import matplotlib.pyplot as plt \n",
        "plt.figure(figsize = (18,7))\n",
        "plt.plot(Y_val, color = 'red', label = 'Real Price')  # red line is real CLOSE price\n",
        "plt.plot(predict_y, color = 'blue', label = 'Predicted Price')  #blue line is predicted price\n",
        "plt.title('Price Prediction')\n",
        "plt.xlabel('Time')\n",
        "plt.ylabel('Stock Price')\n",
        "plt.legend()\n",
        "plt.show()"
      ],
      "execution_count": 22,
      "outputs": [
        {
          "output_type": "display_data",
          "data": {
            "image/png": "[encoded data removed]",
            "text/plain": [
              "<Figure size 1296x504 with 1 Axes>"
            ]
          },
          "metadata": {
            "tags": [],
            "needs_background": "light"
          }
        }
      ]
    },
    {
      "cell_type": "code",
      "metadata": {
        "id": "k7eo3e3bSDO6",
        "colab_type": "code",
        "colab": {}
      },
      "source": [
        "A = Y_val\n",
        "B = predict_y\n",
        "retsA=A-A.shift(1)\n",
        "retsB=B-B.shift(1)\n",
        "retsA = np.array(retsA)\n",
        "retsB = np.array(retsB)\n",
        "count = 0\n",
        "for i in range(125):\n",
        "    if retsA[i+1]>retsA[i] and retsB[i+1]>retsB[i]:\n",
        "        count = count+1\n",
        "    elif retsA[i+1]<retsA[i] and retsB[i+1]<retsB[i]:\n",
        "        count = count+1\n",
        "    else:\n",
        "        count = count\n",
        "accuracy = count / 125"
      ],
      "execution_count": 23,
      "outputs": []
    },
    {
      "cell_type": "code",
      "metadata": {
        "id": "jG9NKDIybaMb",
        "colab_type": "code",
        "colab": {
          "base_uri": "https://localhost:8080/",
          "height": 51
        },
        "outputId": "28a13dd5-55e1-470d-8187-061fbcd68d63"
      },
      "source": [
        "print(accuracy)\n",
        "print(count)"
      ],
      "execution_count": 24,
      "outputs": [
        {
          "output_type": "stream",
          "text": [
            "0.4\n",
            "50\n"
          ],
          "name": "stdout"
        }
      ]
    },
    {
      "cell_type": "code",
      "metadata": {
        "id": "ApqEhjgVbgbP",
        "colab_type": "code",
        "colab": {}
      },
      "source": [
        ""
      ],
      "execution_count": 20,
      "outputs": []
    }
  ]
}